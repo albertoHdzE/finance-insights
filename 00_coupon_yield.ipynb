{
 "cells": [
  {
   "cell_type": "code",
   "execution_count": 2,
   "metadata": {},
   "outputs": [],
   "source": [
    "import numpy as np\n",
    "from scipy.optimize import newton\n"
   ]
  },
  {
   "cell_type": "code",
   "execution_count": 3,
   "metadata": {},
   "outputs": [],
   "source": [
    "# Given values\n",
    "nominal_value = 1000.00  # Nominal value (also called Face value)\n",
    "current_price = 950.00  # Current bond price\n",
    "coupon_rate = 0.04  # 4% coupon rate\n",
    "payment_frequency = 1  # Annual payments\n",
    "maturity = 4  # Maturity in years"
   ]
  },
  {
   "cell_type": "code",
   "execution_count": 4,
   "metadata": {},
   "outputs": [
    {
     "name": "stdout",
     "output_type": "stream",
     "text": [
      "Coupon Payment: $40.00\n"
     ]
    }
   ],
   "source": [
    "# Calculate coupon payment\n",
    "coupon_payment = nominal_value * coupon_rate\n",
    "print(f\"Coupon Payment: ${coupon_payment:.2f}\")\n",
    "\n",
    "# Function to calculate bond price given a yield (ytm)\n",
    "def bond_price(ytm, nominal_value, coupon_payment, maturity, current_price):\n",
    "    bond_value = 0\n",
    "    for t in range(1, maturity + 1):\n",
    "        bond_value += coupon_payment / (1 + ytm) ** t\n",
    "    bond_value += nominal_value / (1 + ytm) ** maturity\n",
    "    return bond_value\n",
    "\n",
    "# Function to solve for Yield to Maturity (ytm)\n",
    "def ytm_solve(ytm):\n",
    "    return bond_price(ytm, nominal_value, coupon_payment, maturity, current_price) - current_price\n"
   ]
  },
  {
   "cell_type": "code",
   "execution_count": 6,
   "metadata": {},
   "outputs": [
    {
     "name": "stdout",
     "output_type": "stream",
     "text": [
      "Yield to Maturity (YTM): 5.42%\n"
     ]
    }
   ],
   "source": [
    "# Use Newton-Raphson method to find the YTM\n",
    "ytm = newton(ytm_solve, 0.05)  # Initial guess for YTM is 5%\n",
    "print(f\"Yield to Maturity (YTM): {ytm * 100:.2f}%\")"
   ]
  },
  {
   "cell_type": "code",
   "execution_count": null,
   "metadata": {},
   "outputs": [],
   "source": []
  }
 ],
 "metadata": {
  "kernelspec": {
   "display_name": "venv",
   "language": "python",
   "name": "python3"
  },
  "language_info": {
   "codemirror_mode": {
    "name": "ipython",
    "version": 3
   },
   "file_extension": ".py",
   "mimetype": "text/x-python",
   "name": "python",
   "nbconvert_exporter": "python",
   "pygments_lexer": "ipython3",
   "version": "3.10.11"
  }
 },
 "nbformat": 4,
 "nbformat_minor": 2
}
